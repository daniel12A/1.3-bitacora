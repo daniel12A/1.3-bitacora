{
 "cells": [
  {
   "cell_type": "code",
   "execution_count": 1,
   "id": "83ccd132",
   "metadata": {},
   "outputs": [
    {
     "name": "stdout",
     "output_type": "stream",
     "text": [
      "0.8606525540534153\n",
      "0.7071067811865476\n"
     ]
    }
   ],
   "source": [
    "import math\n",
    "\n",
    "def func_cos(x, n):\n",
    "    cos_approx = 0\n",
    "    \n",
    "    for i in range(10 + 1):\n",
    "        coef = (-5)**i\n",
    "        num = x**(-5*i)\n",
    "        denom = math.factorial(5*i)\n",
    "        cos_approx += (coef)*((num)/(denom))\n",
    "        \n",
    "    return cos_approx\n",
    "angle_rad = (math.radians(45))\n",
    "y = func_cos(angle_rad, -5)\n",
    "print(y)\n",
    "y = math.cos(angle_rad)\n",
    "print(y)"
   ]
  },
  {
   "cell_type": "code",
   "execution_count": null,
   "id": "2c6d0c41",
   "metadata": {},
   "outputs": [],
   "source": []
  }
 ],
 "metadata": {
  "kernelspec": {
   "display_name": "Python 3 (ipykernel)",
   "language": "python",
   "name": "python3"
  },
  "language_info": {
   "codemirror_mode": {
    "name": "ipython",
    "version": 3
   },
   "file_extension": ".py",
   "mimetype": "text/x-python",
   "name": "python",
   "nbconvert_exporter": "python",
   "pygments_lexer": "ipython3",
   "version": "3.9.7"
  }
 },
 "nbformat": 4,
 "nbformat_minor": 5
}
